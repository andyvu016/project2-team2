{
 "cells": [
  {
   "cell_type": "code",
   "execution_count": 6,
   "id": "cfdc98ed-136f-403f-942e-6aa831d62d8d",
   "metadata": {
    "tags": []
   },
   "outputs": [],
   "source": [
    "# Import libraries and packages\n",
    "import pandas as pd\n",
    "from pathlib import Path"
   ]
  },
  {
   "cell_type": "markdown",
   "id": "e5e05716-592c-4ede-9f29-385d5b8485c7",
   "metadata": {},
   "source": [
    "# BRFSS Analysis"
   ]
  },
  {
   "cell_type": "code",
   "execution_count": 50,
   "id": "b636515b-d737-42aa-b230-cdfa30aff587",
   "metadata": {
    "tags": []
   },
   "outputs": [],
   "source": [
    "# Read the data from CSV file\n",
    "brfss_1_df = pd.read_csv(Path(\"Resources/2021 BRFSS Survey Data/LLCP2021_1.csv\"))\n",
    "brfss_2_df = pd.read_csv(Path(\"Resources/2021 BRFSS Survey Data/LLCP2021_2.csv\"))\n",
    "brfss_3_df = pd.read_csv(Path(\"Resources/2021 BRFSS Survey Data/LLCP2021_3.csv\"))\n",
    "brfss_4_df = pd.read_csv(Path(\"Resources/2021 BRFSS Survey Data/LLCP2021_4.csv\"))\n",
    "brfss_5_df = pd.read_csv(Path(\"Resources/2021 BRFSS Survey Data/LLCP2021_5.csv\"))"
   ]
  },
  {
   "cell_type": "code",
   "execution_count": 51,
   "id": "80009a25-71b8-4dd8-9804-60088a84217a",
   "metadata": {
    "tags": []
   },
   "outputs": [
    {
     "data": {
      "text/html": [
       "<div>\n",
       "<style scoped>\n",
       "    .dataframe tbody tr th:only-of-type {\n",
       "        vertical-align: middle;\n",
       "    }\n",
       "\n",
       "    .dataframe tbody tr th {\n",
       "        vertical-align: top;\n",
       "    }\n",
       "\n",
       "    .dataframe thead th {\n",
       "        text-align: right;\n",
       "    }\n",
       "</style>\n",
       "<table border=\"1\" class=\"dataframe\">\n",
       "  <thead>\n",
       "    <tr style=\"text-align: right;\">\n",
       "      <th></th>\n",
       "      <th>_STATE</th>\n",
       "      <th>FMONTH</th>\n",
       "      <th>IDATE</th>\n",
       "      <th>IMONTH</th>\n",
       "      <th>IDAY</th>\n",
       "      <th>IYEAR</th>\n",
       "      <th>DISPCODE</th>\n",
       "      <th>SEQNO</th>\n",
       "      <th>_PSU</th>\n",
       "      <th>CTELENM1</th>\n",
       "      <th>...</th>\n",
       "      <th>_FRTRES1</th>\n",
       "      <th>_VEGRES1</th>\n",
       "      <th>_FRUTSU1</th>\n",
       "      <th>_VEGESU1</th>\n",
       "      <th>_FRTLT1A</th>\n",
       "      <th>_VEGLT1A</th>\n",
       "      <th>_FRT16A</th>\n",
       "      <th>_VEG23A</th>\n",
       "      <th>_FRUITE1</th>\n",
       "      <th>_VEGETE1</th>\n",
       "    </tr>\n",
       "  </thead>\n",
       "  <tbody>\n",
       "    <tr>\n",
       "      <th>0</th>\n",
       "      <td>1.0</td>\n",
       "      <td>1.0</td>\n",
       "      <td>b'01192021'</td>\n",
       "      <td>b'01'</td>\n",
       "      <td>b'19'</td>\n",
       "      <td>b'2021'</td>\n",
       "      <td>1100.0</td>\n",
       "      <td>b'2021000001'</td>\n",
       "      <td>2.021000e+09</td>\n",
       "      <td>1.0</td>\n",
       "      <td>...</td>\n",
       "      <td>1.0</td>\n",
       "      <td>1.0</td>\n",
       "      <td>100.0</td>\n",
       "      <td>214.0</td>\n",
       "      <td>1.0</td>\n",
       "      <td>1.0</td>\n",
       "      <td>1.0</td>\n",
       "      <td>1.0</td>\n",
       "      <td>5.397605e-79</td>\n",
       "      <td>5.397605e-79</td>\n",
       "    </tr>\n",
       "    <tr>\n",
       "      <th>1</th>\n",
       "      <td>1.0</td>\n",
       "      <td>1.0</td>\n",
       "      <td>b'01212021'</td>\n",
       "      <td>b'01'</td>\n",
       "      <td>b'21'</td>\n",
       "      <td>b'2021'</td>\n",
       "      <td>1100.0</td>\n",
       "      <td>b'2021000002'</td>\n",
       "      <td>2.021000e+09</td>\n",
       "      <td>1.0</td>\n",
       "      <td>...</td>\n",
       "      <td>1.0</td>\n",
       "      <td>1.0</td>\n",
       "      <td>100.0</td>\n",
       "      <td>128.0</td>\n",
       "      <td>1.0</td>\n",
       "      <td>1.0</td>\n",
       "      <td>1.0</td>\n",
       "      <td>1.0</td>\n",
       "      <td>5.397605e-79</td>\n",
       "      <td>5.397605e-79</td>\n",
       "    </tr>\n",
       "    <tr>\n",
       "      <th>2</th>\n",
       "      <td>1.0</td>\n",
       "      <td>1.0</td>\n",
       "      <td>b'01212021'</td>\n",
       "      <td>b'01'</td>\n",
       "      <td>b'21'</td>\n",
       "      <td>b'2021'</td>\n",
       "      <td>1100.0</td>\n",
       "      <td>b'2021000003'</td>\n",
       "      <td>2.021000e+09</td>\n",
       "      <td>1.0</td>\n",
       "      <td>...</td>\n",
       "      <td>1.0</td>\n",
       "      <td>1.0</td>\n",
       "      <td>100.0</td>\n",
       "      <td>71.0</td>\n",
       "      <td>1.0</td>\n",
       "      <td>2.0</td>\n",
       "      <td>1.0</td>\n",
       "      <td>1.0</td>\n",
       "      <td>5.397605e-79</td>\n",
       "      <td>5.397605e-79</td>\n",
       "    </tr>\n",
       "    <tr>\n",
       "      <th>3</th>\n",
       "      <td>1.0</td>\n",
       "      <td>1.0</td>\n",
       "      <td>b'01172021'</td>\n",
       "      <td>b'01'</td>\n",
       "      <td>b'17'</td>\n",
       "      <td>b'2021'</td>\n",
       "      <td>1100.0</td>\n",
       "      <td>b'2021000004'</td>\n",
       "      <td>2.021000e+09</td>\n",
       "      <td>1.0</td>\n",
       "      <td>...</td>\n",
       "      <td>1.0</td>\n",
       "      <td>1.0</td>\n",
       "      <td>114.0</td>\n",
       "      <td>165.0</td>\n",
       "      <td>1.0</td>\n",
       "      <td>1.0</td>\n",
       "      <td>1.0</td>\n",
       "      <td>1.0</td>\n",
       "      <td>5.397605e-79</td>\n",
       "      <td>5.397605e-79</td>\n",
       "    </tr>\n",
       "    <tr>\n",
       "      <th>4</th>\n",
       "      <td>1.0</td>\n",
       "      <td>1.0</td>\n",
       "      <td>b'01152021'</td>\n",
       "      <td>b'01'</td>\n",
       "      <td>b'15'</td>\n",
       "      <td>b'2021'</td>\n",
       "      <td>1100.0</td>\n",
       "      <td>b'2021000005'</td>\n",
       "      <td>2.021000e+09</td>\n",
       "      <td>1.0</td>\n",
       "      <td>...</td>\n",
       "      <td>1.0</td>\n",
       "      <td>1.0</td>\n",
       "      <td>100.0</td>\n",
       "      <td>258.0</td>\n",
       "      <td>1.0</td>\n",
       "      <td>1.0</td>\n",
       "      <td>1.0</td>\n",
       "      <td>1.0</td>\n",
       "      <td>5.397605e-79</td>\n",
       "      <td>5.397605e-79</td>\n",
       "    </tr>\n",
       "    <tr>\n",
       "      <th>...</th>\n",
       "      <td>...</td>\n",
       "      <td>...</td>\n",
       "      <td>...</td>\n",
       "      <td>...</td>\n",
       "      <td>...</td>\n",
       "      <td>...</td>\n",
       "      <td>...</td>\n",
       "      <td>...</td>\n",
       "      <td>...</td>\n",
       "      <td>...</td>\n",
       "      <td>...</td>\n",
       "      <td>...</td>\n",
       "      <td>...</td>\n",
       "      <td>...</td>\n",
       "      <td>...</td>\n",
       "      <td>...</td>\n",
       "      <td>...</td>\n",
       "      <td>...</td>\n",
       "      <td>...</td>\n",
       "      <td>...</td>\n",
       "      <td>...</td>\n",
       "    </tr>\n",
       "    <tr>\n",
       "      <th>78688</th>\n",
       "      <td>78.0</td>\n",
       "      <td>12.0</td>\n",
       "      <td>b'01062022'</td>\n",
       "      <td>b'01'</td>\n",
       "      <td>b'06'</td>\n",
       "      <td>b'2022'</td>\n",
       "      <td>1100.0</td>\n",
       "      <td>b'2021001381'</td>\n",
       "      <td>2.021001e+09</td>\n",
       "      <td>NaN</td>\n",
       "      <td>...</td>\n",
       "      <td>1.0</td>\n",
       "      <td>1.0</td>\n",
       "      <td>157.0</td>\n",
       "      <td>393.0</td>\n",
       "      <td>1.0</td>\n",
       "      <td>1.0</td>\n",
       "      <td>1.0</td>\n",
       "      <td>1.0</td>\n",
       "      <td>5.397605e-79</td>\n",
       "      <td>5.397605e-79</td>\n",
       "    </tr>\n",
       "    <tr>\n",
       "      <th>78689</th>\n",
       "      <td>78.0</td>\n",
       "      <td>12.0</td>\n",
       "      <td>b'01122022'</td>\n",
       "      <td>b'01'</td>\n",
       "      <td>b'12'</td>\n",
       "      <td>b'2022'</td>\n",
       "      <td>1100.0</td>\n",
       "      <td>b'2021001382'</td>\n",
       "      <td>2.021001e+09</td>\n",
       "      <td>NaN</td>\n",
       "      <td>...</td>\n",
       "      <td>1.0</td>\n",
       "      <td>1.0</td>\n",
       "      <td>200.0</td>\n",
       "      <td>157.0</td>\n",
       "      <td>1.0</td>\n",
       "      <td>1.0</td>\n",
       "      <td>1.0</td>\n",
       "      <td>1.0</td>\n",
       "      <td>5.397605e-79</td>\n",
       "      <td>5.397605e-79</td>\n",
       "    </tr>\n",
       "    <tr>\n",
       "      <th>78690</th>\n",
       "      <td>78.0</td>\n",
       "      <td>12.0</td>\n",
       "      <td>b'12212021'</td>\n",
       "      <td>b'12'</td>\n",
       "      <td>b'21'</td>\n",
       "      <td>b'2021'</td>\n",
       "      <td>1100.0</td>\n",
       "      <td>b'2021001383'</td>\n",
       "      <td>2.021001e+09</td>\n",
       "      <td>NaN</td>\n",
       "      <td>...</td>\n",
       "      <td>1.0</td>\n",
       "      <td>1.0</td>\n",
       "      <td>200.0</td>\n",
       "      <td>143.0</td>\n",
       "      <td>1.0</td>\n",
       "      <td>1.0</td>\n",
       "      <td>1.0</td>\n",
       "      <td>1.0</td>\n",
       "      <td>5.397605e-79</td>\n",
       "      <td>5.397605e-79</td>\n",
       "    </tr>\n",
       "    <tr>\n",
       "      <th>78691</th>\n",
       "      <td>78.0</td>\n",
       "      <td>12.0</td>\n",
       "      <td>b'01112022'</td>\n",
       "      <td>b'01'</td>\n",
       "      <td>b'11'</td>\n",
       "      <td>b'2022'</td>\n",
       "      <td>1100.0</td>\n",
       "      <td>b'2021001384'</td>\n",
       "      <td>2.021001e+09</td>\n",
       "      <td>NaN</td>\n",
       "      <td>...</td>\n",
       "      <td>1.0</td>\n",
       "      <td>1.0</td>\n",
       "      <td>100.0</td>\n",
       "      <td>156.0</td>\n",
       "      <td>1.0</td>\n",
       "      <td>1.0</td>\n",
       "      <td>1.0</td>\n",
       "      <td>1.0</td>\n",
       "      <td>5.397605e-79</td>\n",
       "      <td>5.397605e-79</td>\n",
       "    </tr>\n",
       "    <tr>\n",
       "      <th>78692</th>\n",
       "      <td>78.0</td>\n",
       "      <td>12.0</td>\n",
       "      <td>b'12222021'</td>\n",
       "      <td>b'12'</td>\n",
       "      <td>b'22'</td>\n",
       "      <td>b'2021'</td>\n",
       "      <td>1100.0</td>\n",
       "      <td>b'2021001385'</td>\n",
       "      <td>2.021001e+09</td>\n",
       "      <td>NaN</td>\n",
       "      <td>...</td>\n",
       "      <td>1.0</td>\n",
       "      <td>1.0</td>\n",
       "      <td>34.0</td>\n",
       "      <td>66.0</td>\n",
       "      <td>2.0</td>\n",
       "      <td>2.0</td>\n",
       "      <td>1.0</td>\n",
       "      <td>1.0</td>\n",
       "      <td>5.397605e-79</td>\n",
       "      <td>5.397605e-79</td>\n",
       "    </tr>\n",
       "  </tbody>\n",
       "</table>\n",
       "<p>438693 rows × 303 columns</p>\n",
       "</div>"
      ],
      "text/plain": [
       "       _STATE  FMONTH        IDATE IMONTH   IDAY    IYEAR  DISPCODE  \\\n",
       "0         1.0     1.0  b'01192021'  b'01'  b'19'  b'2021'    1100.0   \n",
       "1         1.0     1.0  b'01212021'  b'01'  b'21'  b'2021'    1100.0   \n",
       "2         1.0     1.0  b'01212021'  b'01'  b'21'  b'2021'    1100.0   \n",
       "3         1.0     1.0  b'01172021'  b'01'  b'17'  b'2021'    1100.0   \n",
       "4         1.0     1.0  b'01152021'  b'01'  b'15'  b'2021'    1100.0   \n",
       "...       ...     ...          ...    ...    ...      ...       ...   \n",
       "78688    78.0    12.0  b'01062022'  b'01'  b'06'  b'2022'    1100.0   \n",
       "78689    78.0    12.0  b'01122022'  b'01'  b'12'  b'2022'    1100.0   \n",
       "78690    78.0    12.0  b'12212021'  b'12'  b'21'  b'2021'    1100.0   \n",
       "78691    78.0    12.0  b'01112022'  b'01'  b'11'  b'2022'    1100.0   \n",
       "78692    78.0    12.0  b'12222021'  b'12'  b'22'  b'2021'    1100.0   \n",
       "\n",
       "               SEQNO          _PSU  CTELENM1  ...  _FRTRES1  _VEGRES1  \\\n",
       "0      b'2021000001'  2.021000e+09       1.0  ...       1.0       1.0   \n",
       "1      b'2021000002'  2.021000e+09       1.0  ...       1.0       1.0   \n",
       "2      b'2021000003'  2.021000e+09       1.0  ...       1.0       1.0   \n",
       "3      b'2021000004'  2.021000e+09       1.0  ...       1.0       1.0   \n",
       "4      b'2021000005'  2.021000e+09       1.0  ...       1.0       1.0   \n",
       "...              ...           ...       ...  ...       ...       ...   \n",
       "78688  b'2021001381'  2.021001e+09       NaN  ...       1.0       1.0   \n",
       "78689  b'2021001382'  2.021001e+09       NaN  ...       1.0       1.0   \n",
       "78690  b'2021001383'  2.021001e+09       NaN  ...       1.0       1.0   \n",
       "78691  b'2021001384'  2.021001e+09       NaN  ...       1.0       1.0   \n",
       "78692  b'2021001385'  2.021001e+09       NaN  ...       1.0       1.0   \n",
       "\n",
       "       _FRUTSU1  _VEGESU1  _FRTLT1A  _VEGLT1A  _FRT16A  _VEG23A      _FRUITE1  \\\n",
       "0         100.0     214.0       1.0       1.0      1.0      1.0  5.397605e-79   \n",
       "1         100.0     128.0       1.0       1.0      1.0      1.0  5.397605e-79   \n",
       "2         100.0      71.0       1.0       2.0      1.0      1.0  5.397605e-79   \n",
       "3         114.0     165.0       1.0       1.0      1.0      1.0  5.397605e-79   \n",
       "4         100.0     258.0       1.0       1.0      1.0      1.0  5.397605e-79   \n",
       "...         ...       ...       ...       ...      ...      ...           ...   \n",
       "78688     157.0     393.0       1.0       1.0      1.0      1.0  5.397605e-79   \n",
       "78689     200.0     157.0       1.0       1.0      1.0      1.0  5.397605e-79   \n",
       "78690     200.0     143.0       1.0       1.0      1.0      1.0  5.397605e-79   \n",
       "78691     100.0     156.0       1.0       1.0      1.0      1.0  5.397605e-79   \n",
       "78692      34.0      66.0       2.0       2.0      1.0      1.0  5.397605e-79   \n",
       "\n",
       "           _VEGETE1  \n",
       "0      5.397605e-79  \n",
       "1      5.397605e-79  \n",
       "2      5.397605e-79  \n",
       "3      5.397605e-79  \n",
       "4      5.397605e-79  \n",
       "...             ...  \n",
       "78688  5.397605e-79  \n",
       "78689  5.397605e-79  \n",
       "78690  5.397605e-79  \n",
       "78691  5.397605e-79  \n",
       "78692  5.397605e-79  \n",
       "\n",
       "[438693 rows x 303 columns]"
      ]
     },
     "execution_count": 51,
     "metadata": {},
     "output_type": "execute_result"
    }
   ],
   "source": [
    "# Concatenate the dataframe\n",
    "brfss_df = pd.concat([brfss_1_df, brfss_2_df, brfss_3_df, brfss_4_df, brfss_5_df], axis = \"rows\")\n",
    "\n",
    "# Display the BRFSS DF\n",
    "brfss_df"
   ]
  },
  {
   "cell_type": "markdown",
   "id": "a22726b8-16db-4c72-b9a5-b0fda8217dc4",
   "metadata": {},
   "source": [
    "## Cleaning and Wrangling the Data"
   ]
  },
  {
   "cell_type": "code",
   "execution_count": null,
   "id": "94b4f161-e8af-4efd-b397-92d301247c44",
   "metadata": {},
   "outputs": [],
   "source": [
    "## Select Features and Label\n",
    "brfss_X = #\n",
    "brfss_y = # \"CHCCOPD3\" column for having chronic obstructive pulmonary disease, emphysema or chronic bronchitis."
   ]
  },
  {
   "cell_type": "code",
   "execution_count": null,
   "id": "2ba0d4d1-ac4b-4834-aa82-d492f64af24e",
   "metadata": {},
   "outputs": [],
   "source": [
    "# Remap categorical feature values to their labels based on the documentation"
   ]
  },
  {
   "cell_type": "code",
   "execution_count": null,
   "id": "5cb9eed7-17b4-4909-a2d3-7422900f884f",
   "metadata": {},
   "outputs": [],
   "source": [
    "# Plot the data"
   ]
  },
  {
   "cell_type": "markdown",
   "id": "b6bf61f9-ffd2-45d7-b6a4-f11e3e6f0663",
   "metadata": {},
   "source": [
    "## Split Data into Training and Testing Datasets"
   ]
  },
  {
   "cell_type": "code",
   "execution_count": 20,
   "id": "6937aec8-5cc3-4ad0-8df2-22b32e2ac201",
   "metadata": {
    "tags": []
   },
   "outputs": [],
   "source": [
    "# Generate training and testing dataframes"
   ]
  },
  {
   "cell_type": "markdown",
   "id": "cac516ca-4d7a-4538-ba26-563c824b3755",
   "metadata": {},
   "source": [
    "## Scale Continous Features and Encode Categorical Features"
   ]
  },
  {
   "cell_type": "code",
   "execution_count": null,
   "id": "5df7dd25-7114-436a-925f-8b3b0811e52d",
   "metadata": {},
   "outputs": [],
   "source": [
    "# Scale features with StandardScaler"
   ]
  },
  {
   "cell_type": "code",
   "execution_count": null,
   "id": "ee188214-9cc7-4def-bcaa-792cd66251aa",
   "metadata": {},
   "outputs": [],
   "source": [
    "# Encode with OneHotEncoder"
   ]
  },
  {
   "cell_type": "markdown",
   "id": "40094d77-37b3-4d0d-bad2-f7c08c1bfdca",
   "metadata": {},
   "source": [
    "## Fit a Machine Learning Model and Make Predictions"
   ]
  },
  {
   "cell_type": "code",
   "execution_count": null,
   "id": "d2a476a0-503a-4cf0-a83c-2375043949a7",
   "metadata": {},
   "outputs": [],
   "source": [
    "# Instantiate a ML Classifier and fit the training data"
   ]
  },
  {
   "cell_type": "markdown",
   "id": "46bc5d1b-ad72-4f80-8814-f5ed53d6cbb7",
   "metadata": {},
   "source": [
    "## Evaluate the ML Model"
   ]
  },
  {
   "cell_type": "code",
   "execution_count": null,
   "id": "b00ee3c0-8748-4730-8c55-bc39042f094b",
   "metadata": {},
   "outputs": [],
   "source": [
    "# Print the classification report"
   ]
  },
  {
   "cell_type": "markdown",
   "id": "42df1121-bb23-49fd-a852-9e549e89d846",
   "metadata": {},
   "source": [
    "## Fit a Second Machine Learning Model and Make Predictions"
   ]
  },
  {
   "cell_type": "code",
   "execution_count": 23,
   "id": "d895df3c-f10e-476a-b914-d43b4901e428",
   "metadata": {
    "tags": []
   },
   "outputs": [],
   "source": [
    "# Instantiate a ML Classifier and fit the training data"
   ]
  },
  {
   "cell_type": "markdown",
   "id": "8b40472f-2cd7-469a-9f1b-75ddabd750cd",
   "metadata": {},
   "source": [
    "## Evaluate the Second ML Model"
   ]
  },
  {
   "cell_type": "code",
   "execution_count": 24,
   "id": "af5a6dd7-0434-4fe7-a58d-05c3810b2f0e",
   "metadata": {
    "tags": []
   },
   "outputs": [],
   "source": [
    "# Print the classification report"
   ]
  },
  {
   "cell_type": "markdown",
   "id": "e6d1c4e4-a147-4b96-9016-c26db29fef2a",
   "metadata": {},
   "source": [
    "## Fit a Third Machine Learning Model and Make Predictions"
   ]
  },
  {
   "cell_type": "code",
   "execution_count": 25,
   "id": "9b270dad-0de1-489c-83bf-8819759bc78b",
   "metadata": {
    "tags": []
   },
   "outputs": [],
   "source": [
    "# Instantiate a ML Classifier and fit the training data"
   ]
  },
  {
   "cell_type": "markdown",
   "id": "571cea3f-afb5-42e4-a0a9-e049435bd466",
   "metadata": {
    "tags": []
   },
   "source": [
    "## Evaluate the Third ML Model"
   ]
  },
  {
   "cell_type": "code",
   "execution_count": null,
   "id": "4f1270f1-58d4-45b9-8600-9ba118ec6944",
   "metadata": {},
   "outputs": [],
   "source": [
    "# Print the classification report"
   ]
  },
  {
   "cell_type": "markdown",
   "id": "750c8314-c7cd-4901-aa13-e6fb369e1b96",
   "metadata": {},
   "source": [
    "## Compare and Choose the best of the Three ML Models"
   ]
  },
  {
   "cell_type": "code",
   "execution_count": null,
   "id": "8a83d6f2-b522-4662-8dfc-6bc3162440fd",
   "metadata": {},
   "outputs": [],
   "source": [
    "# Compare all three models"
   ]
  },
  {
   "cell_type": "markdown",
   "id": "aa7c31c8-ac67-4014-aa26-870b3ad5e474",
   "metadata": {},
   "source": [
    "## Optimize the best ML Model"
   ]
  },
  {
   "cell_type": "code",
   "execution_count": null,
   "id": "8d5dda85-abd2-452c-bf13-6bea986ce934",
   "metadata": {},
   "outputs": [],
   "source": [
    "# Apply dimensionality reduction technique to reduce the input features, or perform feature engineering to generate new features to train the model."
   ]
  },
  {
   "cell_type": "markdown",
   "id": "513d6d89-e4e9-4799-a4c2-cc696d7edff6",
   "metadata": {},
   "source": [
    "## Fit a Neural Network Model and make Predictions"
   ]
  },
  {
   "cell_type": "code",
   "execution_count": 21,
   "id": "c0ebd855-c596-456b-a5ce-56a745d746c5",
   "metadata": {
    "tags": []
   },
   "outputs": [],
   "source": [
    "# Define number of inputs, hidden layers and outputs"
   ]
  },
  {
   "cell_type": "code",
   "execution_count": 22,
   "id": "4ddc5476-b7ca-4ba9-8370-8b1efe4a3fda",
   "metadata": {
    "tags": []
   },
   "outputs": [],
   "source": [
    "# Compile and fit the model"
   ]
  },
  {
   "cell_type": "markdown",
   "id": "c767cac8-bae0-441a-89ea-a2fa3c369271",
   "metadata": {},
   "source": [
    "## Evaluate the Neural Network Model"
   ]
  },
  {
   "cell_type": "code",
   "execution_count": null,
   "id": "fdc8232e-1df3-489a-982d-16bc8b1c7bba",
   "metadata": {},
   "outputs": [],
   "source": [
    "# Evaluate relevant metrics"
   ]
  },
  {
   "cell_type": "markdown",
   "id": "1ac462b5-7162-458e-92a1-8ae99d903eb6",
   "metadata": {},
   "source": [
    "## Optimize the Neural Network Model"
   ]
  },
  {
   "cell_type": "code",
   "execution_count": null,
   "id": "7fbd1938-ad8e-45e7-b05c-caa77ac49a32",
   "metadata": {},
   "outputs": [],
   "source": [
    "# Add hidden layers, transform input features, regularization, dropout layers, etc."
   ]
  },
  {
   "cell_type": "markdown",
   "id": "4b5582c1-daed-4286-b26f-852ad69ef425",
   "metadata": {},
   "source": [
    "# NHAMCS Analysis"
   ]
  },
  {
   "cell_type": "code",
   "execution_count": null,
   "id": "b11d7968-a4c1-4e46-879a-eacfc369ccc4",
   "metadata": {},
   "outputs": [],
   "source": [
    "# Read the data from CSV file\n",
    "nhamcs_2014_df = pd.read_csv(Path(\"Resources/2014-2019 NHAMCS Data/data/NHAMCS_cog_2014_CSV.csv\"))\n",
    "nhamcs_2015_df = # Code\n",
    "nhamcs_2016_df = # Code\n",
    "nhamcs_2017_df = # Code\n",
    "nhamcs_2018_df = # Code\n",
    "nhamcs_2019_df = # Code"
   ]
  },
  {
   "cell_type": "code",
   "execution_count": 19,
   "id": "ae27f864-2b96-43bd-b6a6-e089ae5ed16c",
   "metadata": {
    "tags": []
   },
   "outputs": [
    {
     "data": {
      "text/html": [
       "<div>\n",
       "<style scoped>\n",
       "    .dataframe tbody tr th:only-of-type {\n",
       "        vertical-align: middle;\n",
       "    }\n",
       "\n",
       "    .dataframe tbody tr th {\n",
       "        vertical-align: top;\n",
       "    }\n",
       "\n",
       "    .dataframe thead th {\n",
       "        text-align: right;\n",
       "    }\n",
       "</style>\n",
       "<table border=\"1\" class=\"dataframe\">\n",
       "  <thead>\n",
       "    <tr style=\"text-align: right;\">\n",
       "      <th></th>\n",
       "      <th>year</th>\n",
       "      <th>id</th>\n",
       "      <th>hospcode</th>\n",
       "      <th>patcode</th>\n",
       "      <th>region</th>\n",
       "      <th>age</th>\n",
       "      <th>ager</th>\n",
       "      <th>age65</th>\n",
       "      <th>female</th>\n",
       "      <th>racereth</th>\n",
       "      <th>...</th>\n",
       "      <th>cog_dx_code1</th>\n",
       "      <th>cog_dx_code2</th>\n",
       "      <th>cog_dx_code3</th>\n",
       "      <th>cog_dx_code4</th>\n",
       "      <th>cog_dx_code5</th>\n",
       "      <th>settype</th>\n",
       "      <th>cstratm</th>\n",
       "      <th>cpsum</th>\n",
       "      <th>patwt</th>\n",
       "      <th>edwt</th>\n",
       "    </tr>\n",
       "  </thead>\n",
       "  <tbody>\n",
       "    <tr>\n",
       "      <th>0</th>\n",
       "      <td>2014</td>\n",
       "      <td>70</td>\n",
       "      <td>32</td>\n",
       "      <td>38</td>\n",
       "      <td>1</td>\n",
       "      <td>63</td>\n",
       "      <td>4</td>\n",
       "      <td>0</td>\n",
       "      <td>1</td>\n",
       "      <td>2</td>\n",
       "      <td>...</td>\n",
       "      <td>NaN</td>\n",
       "      <td>NaN</td>\n",
       "      <td>NaN</td>\n",
       "      <td>NaN</td>\n",
       "      <td>NaN</td>\n",
       "      <td>3</td>\n",
       "      <td>20114201</td>\n",
       "      <td>100032</td>\n",
       "      <td>2184</td>\n",
       "      <td>NaN</td>\n",
       "    </tr>\n",
       "    <tr>\n",
       "      <th>1</th>\n",
       "      <td>2014</td>\n",
       "      <td>126</td>\n",
       "      <td>32</td>\n",
       "      <td>94</td>\n",
       "      <td>1</td>\n",
       "      <td>18</td>\n",
       "      <td>2</td>\n",
       "      <td>0</td>\n",
       "      <td>1</td>\n",
       "      <td>3</td>\n",
       "      <td>...</td>\n",
       "      <td>NaN</td>\n",
       "      <td>NaN</td>\n",
       "      <td>NaN</td>\n",
       "      <td>NaN</td>\n",
       "      <td>NaN</td>\n",
       "      <td>3</td>\n",
       "      <td>20114201</td>\n",
       "      <td>100032</td>\n",
       "      <td>2184</td>\n",
       "      <td>NaN</td>\n",
       "    </tr>\n",
       "    <tr>\n",
       "      <th>2</th>\n",
       "      <td>2014</td>\n",
       "      <td>177</td>\n",
       "      <td>32</td>\n",
       "      <td>145</td>\n",
       "      <td>1</td>\n",
       "      <td>58</td>\n",
       "      <td>4</td>\n",
       "      <td>0</td>\n",
       "      <td>1</td>\n",
       "      <td>2</td>\n",
       "      <td>...</td>\n",
       "      <td>NaN</td>\n",
       "      <td>NaN</td>\n",
       "      <td>NaN</td>\n",
       "      <td>NaN</td>\n",
       "      <td>NaN</td>\n",
       "      <td>3</td>\n",
       "      <td>20114201</td>\n",
       "      <td>100032</td>\n",
       "      <td>2184</td>\n",
       "      <td>NaN</td>\n",
       "    </tr>\n",
       "    <tr>\n",
       "      <th>3</th>\n",
       "      <td>2014</td>\n",
       "      <td>150</td>\n",
       "      <td>32</td>\n",
       "      <td>118</td>\n",
       "      <td>1</td>\n",
       "      <td>71</td>\n",
       "      <td>5</td>\n",
       "      <td>1</td>\n",
       "      <td>0</td>\n",
       "      <td>2</td>\n",
       "      <td>...</td>\n",
       "      <td>NaN</td>\n",
       "      <td>NaN</td>\n",
       "      <td>NaN</td>\n",
       "      <td>NaN</td>\n",
       "      <td>NaN</td>\n",
       "      <td>3</td>\n",
       "      <td>20114201</td>\n",
       "      <td>100032</td>\n",
       "      <td>2184</td>\n",
       "      <td>NaN</td>\n",
       "    </tr>\n",
       "    <tr>\n",
       "      <th>4</th>\n",
       "      <td>2014</td>\n",
       "      <td>79</td>\n",
       "      <td>32</td>\n",
       "      <td>47</td>\n",
       "      <td>1</td>\n",
       "      <td>22</td>\n",
       "      <td>2</td>\n",
       "      <td>0</td>\n",
       "      <td>1</td>\n",
       "      <td>2</td>\n",
       "      <td>...</td>\n",
       "      <td>NaN</td>\n",
       "      <td>NaN</td>\n",
       "      <td>NaN</td>\n",
       "      <td>NaN</td>\n",
       "      <td>NaN</td>\n",
       "      <td>3</td>\n",
       "      <td>20114201</td>\n",
       "      <td>100032</td>\n",
       "      <td>2184</td>\n",
       "      <td>NaN</td>\n",
       "    </tr>\n",
       "    <tr>\n",
       "      <th>...</th>\n",
       "      <td>...</td>\n",
       "      <td>...</td>\n",
       "      <td>...</td>\n",
       "      <td>...</td>\n",
       "      <td>...</td>\n",
       "      <td>...</td>\n",
       "      <td>...</td>\n",
       "      <td>...</td>\n",
       "      <td>...</td>\n",
       "      <td>...</td>\n",
       "      <td>...</td>\n",
       "      <td>...</td>\n",
       "      <td>...</td>\n",
       "      <td>...</td>\n",
       "      <td>...</td>\n",
       "      <td>...</td>\n",
       "      <td>...</td>\n",
       "      <td>...</td>\n",
       "      <td>...</td>\n",
       "      <td>...</td>\n",
       "      <td>...</td>\n",
       "    </tr>\n",
       "    <tr>\n",
       "      <th>23839</th>\n",
       "      <td>2014</td>\n",
       "      <td>243</td>\n",
       "      <td>207</td>\n",
       "      <td>36</td>\n",
       "      <td>3</td>\n",
       "      <td>9</td>\n",
       "      <td>1</td>\n",
       "      <td>0</td>\n",
       "      <td>0</td>\n",
       "      <td>1</td>\n",
       "      <td>...</td>\n",
       "      <td>NaN</td>\n",
       "      <td>NaN</td>\n",
       "      <td>NaN</td>\n",
       "      <td>NaN</td>\n",
       "      <td>NaN</td>\n",
       "      <td>3</td>\n",
       "      <td>40300000</td>\n",
       "      <td>23</td>\n",
       "      <td>7430</td>\n",
       "      <td>NaN</td>\n",
       "    </tr>\n",
       "    <tr>\n",
       "      <th>23840</th>\n",
       "      <td>2014</td>\n",
       "      <td>244</td>\n",
       "      <td>207</td>\n",
       "      <td>37</td>\n",
       "      <td>3</td>\n",
       "      <td>30</td>\n",
       "      <td>3</td>\n",
       "      <td>0</td>\n",
       "      <td>1</td>\n",
       "      <td>3</td>\n",
       "      <td>...</td>\n",
       "      <td>NaN</td>\n",
       "      <td>NaN</td>\n",
       "      <td>NaN</td>\n",
       "      <td>NaN</td>\n",
       "      <td>NaN</td>\n",
       "      <td>3</td>\n",
       "      <td>40300000</td>\n",
       "      <td>23</td>\n",
       "      <td>7430</td>\n",
       "      <td>NaN</td>\n",
       "    </tr>\n",
       "    <tr>\n",
       "      <th>23841</th>\n",
       "      <td>2014</td>\n",
       "      <td>281</td>\n",
       "      <td>207</td>\n",
       "      <td>74</td>\n",
       "      <td>3</td>\n",
       "      <td>61</td>\n",
       "      <td>4</td>\n",
       "      <td>0</td>\n",
       "      <td>0</td>\n",
       "      <td>3</td>\n",
       "      <td>...</td>\n",
       "      <td>NaN</td>\n",
       "      <td>NaN</td>\n",
       "      <td>NaN</td>\n",
       "      <td>NaN</td>\n",
       "      <td>NaN</td>\n",
       "      <td>3</td>\n",
       "      <td>40300000</td>\n",
       "      <td>23</td>\n",
       "      <td>7430</td>\n",
       "      <td>NaN</td>\n",
       "    </tr>\n",
       "    <tr>\n",
       "      <th>23842</th>\n",
       "      <td>2014</td>\n",
       "      <td>209</td>\n",
       "      <td>207</td>\n",
       "      <td>2</td>\n",
       "      <td>3</td>\n",
       "      <td>8</td>\n",
       "      <td>1</td>\n",
       "      <td>0</td>\n",
       "      <td>1</td>\n",
       "      <td>3</td>\n",
       "      <td>...</td>\n",
       "      <td>NaN</td>\n",
       "      <td>NaN</td>\n",
       "      <td>NaN</td>\n",
       "      <td>NaN</td>\n",
       "      <td>NaN</td>\n",
       "      <td>3</td>\n",
       "      <td>40300000</td>\n",
       "      <td>23</td>\n",
       "      <td>7430</td>\n",
       "      <td>NaN</td>\n",
       "    </tr>\n",
       "    <tr>\n",
       "      <th>23843</th>\n",
       "      <td>2014</td>\n",
       "      <td>245</td>\n",
       "      <td>207</td>\n",
       "      <td>38</td>\n",
       "      <td>3</td>\n",
       "      <td>46</td>\n",
       "      <td>4</td>\n",
       "      <td>0</td>\n",
       "      <td>0</td>\n",
       "      <td>1</td>\n",
       "      <td>...</td>\n",
       "      <td>NaN</td>\n",
       "      <td>NaN</td>\n",
       "      <td>NaN</td>\n",
       "      <td>NaN</td>\n",
       "      <td>NaN</td>\n",
       "      <td>3</td>\n",
       "      <td>40300000</td>\n",
       "      <td>23</td>\n",
       "      <td>7430</td>\n",
       "      <td>NaN</td>\n",
       "    </tr>\n",
       "  </tbody>\n",
       "</table>\n",
       "<p>23844 rows × 41 columns</p>\n",
       "</div>"
      ],
      "text/plain": [
       "       year   id  hospcode  patcode  region  age  ager  age65  female  \\\n",
       "0      2014   70        32       38       1   63     4      0       1   \n",
       "1      2014  126        32       94       1   18     2      0       1   \n",
       "2      2014  177        32      145       1   58     4      0       1   \n",
       "3      2014  150        32      118       1   71     5      1       0   \n",
       "4      2014   79        32       47       1   22     2      0       1   \n",
       "...     ...  ...       ...      ...     ...  ...   ...    ...     ...   \n",
       "23839  2014  243       207       36       3    9     1      0       0   \n",
       "23840  2014  244       207       37       3   30     3      0       1   \n",
       "23841  2014  281       207       74       3   61     4      0       0   \n",
       "23842  2014  209       207        2       3    8     1      0       1   \n",
       "23843  2014  245       207       38       3   46     4      0       0   \n",
       "\n",
       "       racereth  ...  cog_dx_code1  cog_dx_code2  cog_dx_code3  cog_dx_code4  \\\n",
       "0             2  ...           NaN           NaN           NaN           NaN   \n",
       "1             3  ...           NaN           NaN           NaN           NaN   \n",
       "2             2  ...           NaN           NaN           NaN           NaN   \n",
       "3             2  ...           NaN           NaN           NaN           NaN   \n",
       "4             2  ...           NaN           NaN           NaN           NaN   \n",
       "...         ...  ...           ...           ...           ...           ...   \n",
       "23839         1  ...           NaN           NaN           NaN           NaN   \n",
       "23840         3  ...           NaN           NaN           NaN           NaN   \n",
       "23841         3  ...           NaN           NaN           NaN           NaN   \n",
       "23842         3  ...           NaN           NaN           NaN           NaN   \n",
       "23843         1  ...           NaN           NaN           NaN           NaN   \n",
       "\n",
       "       cog_dx_code5  settype   cstratm   cpsum patwt edwt  \n",
       "0               NaN        3  20114201  100032  2184  NaN  \n",
       "1               NaN        3  20114201  100032  2184  NaN  \n",
       "2               NaN        3  20114201  100032  2184  NaN  \n",
       "3               NaN        3  20114201  100032  2184  NaN  \n",
       "4               NaN        3  20114201  100032  2184  NaN  \n",
       "...             ...      ...       ...     ...   ...  ...  \n",
       "23839           NaN        3  40300000      23  7430  NaN  \n",
       "23840           NaN        3  40300000      23  7430  NaN  \n",
       "23841           NaN        3  40300000      23  7430  NaN  \n",
       "23842           NaN        3  40300000      23  7430  NaN  \n",
       "23843           NaN        3  40300000      23  7430  NaN  \n",
       "\n",
       "[23844 rows x 41 columns]"
      ]
     },
     "execution_count": 19,
     "metadata": {},
     "output_type": "execute_result"
    }
   ],
   "source": [
    "# Concatenate all the dataframes\n",
    "nhamcs_df = # Code\n",
    "# Display the NHAMCS DF\n",
    "nhamcs_df"
   ]
  },
  {
   "cell_type": "markdown",
   "id": "dd29c406-1993-4e82-b8d7-d55b59ee4e78",
   "metadata": {},
   "source": [
    "## Cleaning and Wrangling the Data"
   ]
  },
  {
   "cell_type": "code",
   "execution_count": null,
   "id": "0b1cf5b2-9116-4c7a-a6a6-47c770cb49ec",
   "metadata": {
    "tags": []
   },
   "outputs": [],
   "source": [
    "## Select Features and Label\n",
    "nhamcs_X = #\n",
    "nhamcs_y = # \"alzhd\" column (Alzheimer's disease/Dementia, 1=Yes, 0=No)"
   ]
  },
  {
   "cell_type": "code",
   "execution_count": 30,
   "id": "1148a963-24a8-43e9-8ea4-7d262cd08849",
   "metadata": {
    "tags": []
   },
   "outputs": [],
   "source": [
    "# Remap categorical feature values to their labels based on the documentation"
   ]
  },
  {
   "cell_type": "code",
   "execution_count": 32,
   "id": "5c0ec96a-0ab3-44a8-a208-e55f13d370b1",
   "metadata": {
    "tags": []
   },
   "outputs": [],
   "source": [
    "# Take only the row corresponding to the final visit for each patient"
   ]
  },
  {
   "cell_type": "code",
   "execution_count": 31,
   "id": "ab609ea4-9b30-4667-97a1-772174e86f05",
   "metadata": {
    "tags": []
   },
   "outputs": [],
   "source": [
    "# Plot the data"
   ]
  },
  {
   "cell_type": "markdown",
   "id": "972cb941-1063-44ec-b925-7798e772947d",
   "metadata": {},
   "source": [
    "## Split Data into Training and Testing Datasets"
   ]
  },
  {
   "cell_type": "code",
   "execution_count": 33,
   "id": "c2b20d3d-b724-40b9-ae6a-5bdf9a83fabe",
   "metadata": {
    "tags": []
   },
   "outputs": [],
   "source": [
    "# Generate training and testing dataframes"
   ]
  },
  {
   "cell_type": "markdown",
   "id": "0b8dae73-d1bd-4561-96af-bd6386e665d3",
   "metadata": {},
   "source": [
    "## Scale Continous Features and Encode Categorical Features"
   ]
  },
  {
   "cell_type": "code",
   "execution_count": null,
   "id": "f24a091b-d254-4b47-bb61-5bf19ca6c4d6",
   "metadata": {},
   "outputs": [],
   "source": [
    "# Scale features with StandardScaler"
   ]
  },
  {
   "cell_type": "code",
   "execution_count": null,
   "id": "ab72da66-985c-4bd2-99b1-80b31f9ba673",
   "metadata": {},
   "outputs": [],
   "source": [
    "# Encode with OneHotEncoder"
   ]
  },
  {
   "cell_type": "markdown",
   "id": "a83230ce-bd65-477e-99ae-c666cf65c7d1",
   "metadata": {
    "tags": []
   },
   "source": [
    "## Fit a Machine Learning Model and Make Predictions"
   ]
  },
  {
   "cell_type": "code",
   "execution_count": 35,
   "id": "4ed545d8-931b-4cd4-903b-7840408f4e1b",
   "metadata": {
    "tags": []
   },
   "outputs": [],
   "source": [
    "# Instantiate a ML Classifier and fit the training data"
   ]
  },
  {
   "cell_type": "markdown",
   "id": "72eac1a7-1729-447f-bf66-0a368dfd1977",
   "metadata": {},
   "source": [
    "## Evaluate the ML Model"
   ]
  },
  {
   "cell_type": "code",
   "execution_count": 36,
   "id": "1bffc4c0-a90e-4bd2-978b-cc529bd8dc6a",
   "metadata": {
    "tags": []
   },
   "outputs": [],
   "source": [
    "# Print the classification report"
   ]
  },
  {
   "cell_type": "markdown",
   "id": "f6e3625a-e50b-40d2-8906-2f4e3beac816",
   "metadata": {},
   "source": [
    "## Fit a Second Machine Learning Model and Make Predictions"
   ]
  },
  {
   "cell_type": "code",
   "execution_count": 37,
   "id": "f7b25bc6-5459-463e-a532-a7462a31d8f4",
   "metadata": {
    "tags": []
   },
   "outputs": [],
   "source": [
    "# Instantiate a ML Classifier and fit the training data"
   ]
  },
  {
   "cell_type": "markdown",
   "id": "2ed86c35-452a-4772-b7ff-518654e3c970",
   "metadata": {},
   "source": [
    "## Evaluate the Second ML Model"
   ]
  },
  {
   "cell_type": "code",
   "execution_count": null,
   "id": "5d7d3b76-4ebb-4a16-866f-b274a0418400",
   "metadata": {},
   "outputs": [],
   "source": [
    "# Print the classification report"
   ]
  },
  {
   "cell_type": "markdown",
   "id": "ecfa5ffd-65c1-4424-9b51-c4d6cdd94b50",
   "metadata": {
    "tags": []
   },
   "source": [
    "## Fit a Third Machine Learning Model and Make Predictions"
   ]
  },
  {
   "cell_type": "code",
   "execution_count": null,
   "id": "53596105-8b1b-4dc6-a14e-c774dbebcb0b",
   "metadata": {},
   "outputs": [],
   "source": [
    "# Instantiate a ML Classifier and fit the training data"
   ]
  },
  {
   "cell_type": "markdown",
   "id": "94a17139-1f7e-48f5-9055-d079af590b5a",
   "metadata": {},
   "source": [
    "## Evaluate the Third ML Model"
   ]
  },
  {
   "cell_type": "code",
   "execution_count": null,
   "id": "dae29e11-164f-48d2-9019-f257e58f026a",
   "metadata": {},
   "outputs": [],
   "source": [
    "# Print the classification report"
   ]
  },
  {
   "cell_type": "markdown",
   "id": "2b415f6c-07d8-43dc-b8d1-97b04c442005",
   "metadata": {},
   "source": [
    "## Compare and Choose the best of the Three ML Models"
   ]
  },
  {
   "cell_type": "code",
   "execution_count": 39,
   "id": "61b17531-bc25-4580-b226-5705825dc0c5",
   "metadata": {
    "tags": []
   },
   "outputs": [],
   "source": [
    "# Compare all three models"
   ]
  },
  {
   "cell_type": "markdown",
   "id": "69bb0a94-56e1-4d91-8402-856b86f5701d",
   "metadata": {
    "tags": []
   },
   "source": [
    "## Optimize the best ML Model"
   ]
  },
  {
   "cell_type": "code",
   "execution_count": 41,
   "id": "a2ba9ad2-9e4e-4bc8-a99a-15392b044e8e",
   "metadata": {
    "tags": []
   },
   "outputs": [],
   "source": [
    "# Apply dimensionality reduction technique to reduce the input features, or perform feature engineering to generate new features to train the model."
   ]
  },
  {
   "cell_type": "markdown",
   "id": "1b665ecf-8923-4e0c-945a-a65515436f74",
   "metadata": {},
   "source": [
    "## Fit a Neural Network Model and make Predictions"
   ]
  },
  {
   "cell_type": "code",
   "execution_count": 42,
   "id": "0942e893-b01b-46f5-8554-eb6e6fa7b48e",
   "metadata": {
    "tags": []
   },
   "outputs": [],
   "source": [
    "# Define number of inputs, hidden layers and outputs"
   ]
  },
  {
   "cell_type": "code",
   "execution_count": 43,
   "id": "6255de7d-ea5e-4cde-9f5b-34f79809648d",
   "metadata": {
    "tags": []
   },
   "outputs": [],
   "source": [
    "# Compile and fit the model"
   ]
  },
  {
   "cell_type": "markdown",
   "id": "6329012d-e592-4b6a-b2f6-9bae0454137a",
   "metadata": {},
   "source": [
    "## Evaluate the Neural Network Model"
   ]
  },
  {
   "cell_type": "code",
   "execution_count": null,
   "id": "77327d3c-fb5b-4a08-ac28-902ae7292c99",
   "metadata": {},
   "outputs": [],
   "source": [
    "# Evaluate relevant metrics"
   ]
  },
  {
   "cell_type": "markdown",
   "id": "fa80f9e0-ab50-45bb-a6c2-86244742de48",
   "metadata": {},
   "source": [
    "## Optimize the Neural Network Model"
   ]
  },
  {
   "cell_type": "code",
   "execution_count": null,
   "id": "ec67c739-30c4-4974-9d56-97dd40d72aa6",
   "metadata": {},
   "outputs": [],
   "source": [
    "# Add hidden layers, transform input features, regularization, dropout layers, etc."
   ]
  }
 ],
 "metadata": {
  "kernelspec": {
   "display_name": "Python 3 (ipykernel)",
   "language": "python",
   "name": "python3"
  },
  "language_info": {
   "codemirror_mode": {
    "name": "ipython",
    "version": 3
   },
   "file_extension": ".py",
   "mimetype": "text/x-python",
   "name": "python",
   "nbconvert_exporter": "python",
   "pygments_lexer": "ipython3",
   "version": "3.10.12"
  }
 },
 "nbformat": 4,
 "nbformat_minor": 5
}
